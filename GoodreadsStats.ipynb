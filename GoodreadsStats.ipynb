{
 "cells": [
  {
   "cell_type": "markdown",
   "id": "03b5d383",
   "metadata": {},
   "source": [
    "# Stats from Goodreads Bookshelf"
   ]
  },
  {
   "cell_type": "code",
   "execution_count": 1,
   "id": "9db9c8f1",
   "metadata": {},
   "outputs": [],
   "source": [
    "import pandas as pd\n",
    "import numpy as np\n",
    "import os\n",
    "import matplotlib as mpl\n",
    "import matplotlib.pyplot as plt\n",
    "import math\n",
    "import ipywidgets as widgets"
   ]
  },
  {
   "cell_type": "code",
   "execution_count": 2,
   "id": "c336a029",
   "metadata": {},
   "outputs": [],
   "source": [
    "csvPath = os.path.join(\".\", \"goodreads_library_export.csv\")"
   ]
  },
  {
   "cell_type": "code",
   "execution_count": 40,
   "id": "4f531c6c",
   "metadata": {},
   "outputs": [
    {
     "name": "stdout",
     "output_type": "stream",
     "text": [
      "Book Id                         int64\n",
      "Title                          object\n",
      "Author                         object\n",
      "Author l-f                     object\n",
      "Additional Authors             object\n",
      "ISBN                           object\n",
      "ISBN13                         object\n",
      "My Rating                       int64\n",
      "Average Rating                float64\n",
      "Publisher                      object\n",
      "Binding                        object\n",
      "Number of Pages               float64\n",
      "Year Published                float64\n",
      "Original Publication Year     float64\n",
      "Date Read                      object\n",
      "Date Added                     object\n",
      "Bookshelves                    object\n",
      "Bookshelves with positions     object\n",
      "Exclusive Shelf                object\n",
      "My Review                     float64\n",
      "Spoiler                       float64\n",
      "Private Notes                 float64\n",
      "Read Count                      int64\n",
      "Owned Copies                    int64\n",
      "dtype: object\n"
     ]
    }
   ],
   "source": [
    "booklist = pd.read_csv(csvPath)\n",
    "print(booklist.dtypes)\n",
    "\n"
   ]
  },
  {
   "cell_type": "markdown",
   "id": "0eb43506",
   "metadata": {},
   "source": [
    "### Filtering"
   ]
  },
  {
   "cell_type": "code",
   "execution_count": 41,
   "id": "a9aec00e",
   "metadata": {},
   "outputs": [],
   "source": [
    "read = booklist[booklist[\"Exclusive Shelf\"] == \"read\"].reset_index(drop=True)\n",
    "to_read = booklist[booklist[\"Exclusive Shelf\"] == \"to-read\"].reset_index(drop=True)\n",
    "reading = booklist[booklist[\"Exclusive Shelf\"] == \"currently-reading\"].reset_index(drop=True)\n"
   ]
  },
  {
   "cell_type": "markdown",
   "id": "ba703cff",
   "metadata": {},
   "source": [
    "# Books by year\n"
   ]
  },
  {
   "cell_type": "code",
   "execution_count": 42,
   "id": "f40cfad3",
   "metadata": {},
   "outputs": [
    {
     "name": "stdout",
     "output_type": "stream",
     "text": [
      "Date Read\n",
      "2021         54\n",
      "2023         41\n",
      "2022         37\n",
      "2020         36\n",
      "2024         17\n",
      "dtype: int64\n"
     ]
    },
    {
     "data": {
      "image/png": "[encoded data removed]",
      "text/plain": [
       "<Figure size 432x288 with 1 Axes>"
      ]
     },
     "metadata": {
      "needs_background": "light"
     },
     "output_type": "display_data"
    }
   ],
   "source": [
    "byYearRead = read[[\"Title\",\"Date Read\"]]\n",
    "byYearRead = byYearRead[byYearRead[\"Date Read\"] == byYearRead[\"Date Read\"]]\n",
    "byYearRead[\"Date Read\"] = [int(str(x)[0:4]) for x in byYearRead[\"Date Read\"]]\n",
    "x = np.arange(byYearRead[\"Date Read\"].max(), byYearRead[\"Date Read\"].min()-1,-1)\n",
    "\n",
    "countMap = byYearRead.value_counts(subset=[\"Date Read\"])\n",
    "\n",
    "bar_fig, bar_ax = plt.subplots()\n",
    "\n",
    "bar_ax.set_title(\"Books Read in Each Year\", fontsize=20)\n",
    "bar_ax.set_xlabel(\"Number of Books\", fontsize=15)\n",
    "years = [str(i) for i in x]\n",
    "counts = [countMap[i] for i in x]\n",
    "print(byYearRead.value_counts(subset=[\"Date Read\"]))\n",
    "\n",
    "rects = bar_ax.barh(years, counts, align=\"center\", height=0.75)\n",
    "bar_ax.bar_label(rects, counts, padding=-25, color=\"white\", fontweight=\"bold\", fontsize=15)\n",
    "\n",
    "bar_ax.xaxis.grid(True, linestyle=\"--\", which=\"major\", color=\"grey\", alpha=0.25)\n",
    "bar_ax.set_ylabel(\"Year\", fontsize=15)\n",
    "pass"
   ]
  },
  {
   "cell_type": "markdown",
   "id": "20c3b337",
   "metadata": {},
   "source": [
    "# General Scatterplot"
   ]
  },
  {
   "cell_type": "code",
   "execution_count": 43,
   "id": "9d9bfdc0",
   "metadata": {
    "scrolled": true
   },
   "outputs": [
    {
     "data": {
      "application/vnd.jupyter.widget-view+json": {
       "model_id": "73aa2bfb33594b0485cb67f7bb0c6f26",
       "version_major": 2,
       "version_minor": 0
      },
      "text/plain": [
       "interactive(children=(Checkbox(value=True, description='read', indent=False), Checkbox(value=False, descriptio…"
      ]
     },
     "metadata": {},
     "output_type": "display_data"
    }
   ],
   "source": [
    "cols = [i for i in list(booklist) if pd.api.types.is_numeric_dtype(booklist[i])]\n",
    "\n",
    "listSelection = {\n",
    "    \"read\": widgets.Checkbox(\n",
    "        value=True,\n",
    "        description=\"read\",\n",
    "        disabled=False,\n",
    "        indent=False\n",
    "    ),\n",
    "    \"toRead\": widgets.Checkbox(\n",
    "        value=False,\n",
    "        description=\"to read\",\n",
    "        disabled=False,\n",
    "        indent=False\n",
    "    ),\n",
    "    \"continueReading\": widgets.Checkbox(\n",
    "        value=False,\n",
    "        description=\"continue reading\",\n",
    "        disabled=False,\n",
    "        indent=False\n",
    "    )\n",
    "}\n",
    "# selectionBox = widgets.HBox(children=listSelection)\n",
    "\n",
    "axisChoices = [\n",
    "    widgets.Dropdown(\n",
    "        options=cols,\n",
    "        value=cols[0],\n",
    "        description=\"X axis = \",\n",
    "        disabled=False\n",
    "    ),\n",
    "    widgets.Dropdown(\n",
    "        options=cols,\n",
    "        value=cols[0],\n",
    "        description=\"Y axis = \",\n",
    "        disabled=False\n",
    "    ),\n",
    "]\n",
    "\n",
    "chartType = widgets.\n",
    "# axisBox = widgets.VBox(children=axisChoices)\n",
    "\n",
    "# display(selectionBox)\n",
    "# display(axisBox)\n",
    "\n",
    "@widgets.interact(readChoice=listSelection[\"read\"], \n",
    "                  toReadChoice=listSelection[\"toRead\"], \n",
    "                  continueReadingChoice=listSelection[\"continueReading\"],\n",
    "                  xAxis=axisChoices[0],\n",
    "                  yAxis=axisChoices[1])\n",
    "def on_change(readChoice, toReadChoice, continueReadingChoice, xAxis, yAxis):\n",
    "    print((readChoice,toReadChoice,continueReadingChoice))\n",
    "    print(xAxis, yAxis)\n",
    "    scatter_fig, scatter_plt = plt.subplots()\n",
    "    \n",
    "    plotList = []\n",
    "    if readChoice: plotList.append(read)\n",
    "    if toReadChoice: plotList.append(to_read)\n",
    "    if continueReadingChoice: plotList.append(reading)\n",
    "    if(len(plotList) == 0): plotList.append(booklist)\n",
    "    chosenList = pd.concat(plotList, ignore_index=True, sort=False)\n",
    "    \n",
    "    scatter_plt.scatter(x=chosenList[xAxis], y=chosenList[yAxis])\n",
    "# outputs = widgets.interact(on_change, read=listSelection[\"read\"])\n",
    "\n",
    "# for i in listSelection: i.observe(on_change, names=\"value\") "
   ]
  },
  {
   "cell_type": "code",
   "execution_count": 50,
   "id": "5d59ecc7",
   "metadata": {},
   "outputs": [
    {
     "data": {
      "application/vnd.jupyter.widget-view+json": {
       "model_id": "0025647a9d3f4e63a27b27c136c46d7b",
       "version_major": 2,
       "version_minor": 0
      },
      "text/plain": [
       "interactive(children=(Checkbox(value=True, description='read', indent=False), Checkbox(value=False, descriptio…"
      ]
     },
     "metadata": {},
     "output_type": "display_data"
    }
   ],
   "source": [
    "\n",
    "histchoice = widgets.Dropdown(\n",
    "        options=cols,\n",
    "        value=cols[0],\n",
    "        description=\"Value = \",\n",
    "        disabled=False\n",
    "    )\n",
    "\n",
    "binSlider = widgets.IntSlider(\n",
    "    value=7,\n",
    "    min=3,\n",
    "    max=100,\n",
    "    step=1,\n",
    "    description='Bin Count:',\n",
    "    disabled=False,\n",
    "    continuous_update=True,\n",
    "    orientation='horizontal',\n",
    "    readout=True,\n",
    "    readout_format='d'\n",
    ")\n",
    "\n",
    "@widgets.interact(readChoice=listSelection[\"read\"], \n",
    "                  toReadChoice=listSelection[\"toRead\"], \n",
    "                  continueReadingChoice=listSelection[\"continueReading\"],\n",
    "                  histChoice=histchoice,\n",
    "                  binCount=binSlider)\n",
    "def process_hist_choice(readChoice, toReadChoice, continueReadingChoice, histChoice, binCount):\n",
    "    hist_fig, hist_plt = plt.subplots()\n",
    "    \n",
    "    plotList = []\n",
    "    if readChoice: plotList.append(read)\n",
    "    if toReadChoice: plotList.append(to_read)\n",
    "    if continueReadingChoice: plotList.append(reading)\n",
    "    if(len(plotList) == 0): plotList.append(booklist)\n",
    "    chosenList = pd.concat(plotList, ignore_index=True, sort=False)\n",
    "    \n",
    "    hist_plt.hist(chosenList[histChoice], binCount)"
   ]
  },
  {
   "cell_type": "code",
   "execution_count": null,
   "id": "0cc103a2",
   "metadata": {},
   "outputs": [],
   "source": []
  }
 ],
 "metadata": {
  "kernelspec": {
   "display_name": "Python 3 (ipykernel)",
   "language": "python",
   "name": "python3"
  },
  "language_info": {
   "codemirror_mode": {
    "name": "ipython",
    "version": 3
   },
   "file_extension": ".py",
   "mimetype": "text/x-python",
   "name": "python",
   "nbconvert_exporter": "python",
   "pygments_lexer": "ipython3",
   "version": "3.9.13"
  }
 },
 "nbformat": 4,
 "nbformat_minor": 5
}
